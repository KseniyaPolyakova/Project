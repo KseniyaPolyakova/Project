{
 "cells": [
  {
   "cell_type": "code",
   "execution_count": 16,
   "id": "bf52a489",
   "metadata": {},
   "outputs": [
    {
     "name": "stdout",
     "output_type": "stream",
     "text": [
      "1 2 3 4 5\n",
      "2\n",
      "129.0\n"
     ]
    }
   ],
   "source": [
    "def evaluate(x, a):\n",
    "    a.reverse()\n",
    "    ax = 0\n",
    "    for ai in a:\n",
    "        ax = ax * x + ai\n",
    "    return ax\n",
    "a = list(map(int, input().split()))\n",
    "x = float(input())\n",
    "print(evaluate(x, a))"
   ]
  },
  {
   "cell_type": "code",
   "execution_count": 19,
   "id": "a4d53b6f",
   "metadata": {},
   "outputs": [
    {
     "name": "stdout",
     "output_type": "stream",
     "text": [
      "1000\n",
      "1.0010005001667084 1.0010005001667084\n",
      "1.1051709180756477 1.1051709180756477\n",
      "2.718281828459045 2.718281828459045\n",
      "22026.465794806714 22026.465794806718\n",
      "10686474581524.473 10686474581524.463\n",
      "2.6881171418126436e+43 2.6881171418161356e+43\n"
     ]
    }
   ],
   "source": [
    "import math\n",
    "def exp(x, n):\n",
    "    k = [1/math.factorial(i) for i in range(n)]\n",
    "    return evaluate(x, k)\n",
    "n = int(input())\n",
    "X = [0.001, 0.1, 1, 10, 30, 100]\n",
    "for x in X:\n",
    "    print(exp(x, n), math.exp(x))"
   ]
  }
 ],
 "metadata": {
  "kernelspec": {
   "display_name": "Python 3 (ipykernel)",
   "language": "python",
   "name": "python3"
  },
  "language_info": {
   "codemirror_mode": {
    "name": "ipython",
    "version": 3
   },
   "file_extension": ".py",
   "mimetype": "text/x-python",
   "name": "python",
   "nbconvert_exporter": "python",
   "pygments_lexer": "ipython3",
   "version": "3.8.11"
  }
 },
 "nbformat": 4,
 "nbformat_minor": 5
}
