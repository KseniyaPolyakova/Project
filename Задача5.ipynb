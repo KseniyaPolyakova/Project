{
 "cells": [
  {
   "cell_type": "code",
   "execution_count": 4,
   "id": "ef7d0567",
   "metadata": {},
   "outputs": [
    {
     "name": "stdout",
     "output_type": "stream",
     "text": [
      "5 5\n",
      "1\n",
      "0\n",
      "3\n",
      "2\n",
      "9\n",
      "2\n"
     ]
    }
   ],
   "source": [
    "N, M = map(int, input().split())\n",
    "C = [int(input()) for i in range(N)]\n",
    "prem = sum(C) // M\n",
    "k = sum(map(lambda n: n // prem, C))\n",
    "if k >= M:\n",
    "    print(prem)\n",
    "else:\n",
    "    a = 0\n",
    "    b = prem\n",
    "    while b - a > 1:\n",
    "        x = (a + b) // 2\n",
    "        k = sum(map(lambda n: n // x, C))\n",
    "        if k >= M:\n",
    "            a = x\n",
    "        else:\n",
    "            b = x\n",
    "    print(a)"
   ]
  }
 ],
 "metadata": {
  "kernelspec": {
   "display_name": "Python 3 (ipykernel)",
   "language": "python",
   "name": "python3"
  },
  "language_info": {
   "codemirror_mode": {
    "name": "ipython",
    "version": 3
   },
   "file_extension": ".py",
   "mimetype": "text/x-python",
   "name": "python",
   "nbconvert_exporter": "python",
   "pygments_lexer": "ipython3",
   "version": "3.8.11"
  }
 },
 "nbformat": 4,
 "nbformat_minor": 5
}
