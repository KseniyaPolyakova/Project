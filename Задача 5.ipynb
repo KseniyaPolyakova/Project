{
 "cells": [
  {
   "cell_type": "code",
   "execution_count": 4,
   "id": "af1b708e",
   "metadata": {},
   "outputs": [
    {
     "name": "stdout",
     "output_type": "stream",
     "text": [
      "2 100\n",
      "99\n",
      "1\n",
      "1\n"
     ]
    }
   ],
   "source": [
    "def premiya(N, M, C):\n",
    "    prem1 = min(C)        #Минимальная сумма на счете\n",
    "    prem2 = sum(C) // M        #Максимальная премия без учета условий задачи\n",
    "    for i in range(min(prem1, prem2), 0, -1):    \n",
    "        k = sum(map(lambda n: n // i, C))        #Количество менеджеров, которым можно выплатить премию i\n",
    "        if k >= M:\n",
    "            return i\n",
    "    return 0\n",
    "N, M = map(int, input().split())\n",
    "C = [int(input()) for i in range(N)]\n",
    "print(premiya(N, M, C))"
   ]
  }
 ],
 "metadata": {
  "kernelspec": {
   "display_name": "Python 3 (ipykernel)",
   "language": "python",
   "name": "python3"
  },
  "language_info": {
   "codemirror_mode": {
    "name": "ipython",
    "version": 3
   },
   "file_extension": ".py",
   "mimetype": "text/x-python",
   "name": "python",
   "nbconvert_exporter": "python",
   "pygments_lexer": "ipython3",
   "version": "3.8.11"
  }
 },
 "nbformat": 4,
 "nbformat_minor": 5
}
